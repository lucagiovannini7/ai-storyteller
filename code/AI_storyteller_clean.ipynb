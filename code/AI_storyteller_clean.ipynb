{
  "cells": [
    {
      "cell_type": "markdown",
      "source": [
        "# Step 1. assess the reference human corpus\n",
        "\n",
        "to recreate size distribution"
      ],
      "metadata": {
        "id": "jWKLw2ET-zNZ"
      }
    },
    {
      "cell_type": "code",
      "source": [
        "import pandas as pd"
      ],
      "metadata": {
        "id": "vU8CIBbBFPR1"
      },
      "execution_count": null,
      "outputs": []
    },
    {
      "cell_type": "code",
      "source": [
        "from matplotlib import pyplot as plt"
      ],
      "metadata": {
        "id": "IAdxrxOwhVWV"
      },
      "execution_count": null,
      "outputs": []
    },
    {
      "cell_type": "code",
      "execution_count": null,
      "metadata": {
        "id": "W_UZhRFX3BGa"
      },
      "outputs": [],
      "source": [
        "!pip install openai"
      ]
    },
    {
      "cell_type": "code",
      "execution_count": null,
      "metadata": {
        "id": "dvDsEY-lyNKA"
      },
      "outputs": [],
      "source": [
        "import openai"
      ]
    },
    {
      "cell_type": "code",
      "execution_count": null,
      "metadata": {
        "id": "q-_aN_tf6XyG"
      },
      "outputs": [],
      "source": [
        "from tqdm import tqdm"
      ]
    },
    {
      "cell_type": "code",
      "execution_count": null,
      "metadata": {
        "id": "etjAeQZK6sA2"
      },
      "outputs": [],
      "source": [
        "import time"
      ]
    },
    {
      "cell_type": "code",
      "source": [
        "import os"
      ],
      "metadata": {
        "id": "EfJ4-XVkC-5D"
      },
      "execution_count": null,
      "outputs": []
    },
    {
      "cell_type": "code",
      "source": [
        "import random"
      ],
      "metadata": {
        "id": "ciJLUEB9P9_g"
      },
      "execution_count": null,
      "outputs": []
    },
    {
      "cell_type": "code",
      "source": [
        "#!git clone https://github.com/lucagiovannini7/ai-storyteller #this one's private\n",
        "!git clone https://github.com/DanilSko/human_part_of_aist"
      ],
      "metadata": {
        "id": "nTNqEj6W-3y6"
      },
      "execution_count": null,
      "outputs": []
    },
    {
      "cell_type": "code",
      "source": [
        "folder = 'human_part_of_aist/bm'"
      ],
      "metadata": {
        "id": "KCU-e84oCsyw"
      },
      "execution_count": null,
      "outputs": []
    },
    {
      "cell_type": "code",
      "source": [
        "def measure_file_sizes(folder):\n",
        "    files = os.listdir(folder)\n",
        "    sizes = []\n",
        "    for filename in files:\n",
        "        filepath = os.path.join(folder, filename)\n",
        "        with open(filepath) as openfile:\n",
        "            text = openfile.read()\n",
        "        lenght = len(text.split())\n",
        "        sizes.append(lenght)\n",
        "    df = pd.DataFrame(sizes, files)\n",
        "    df.columns = ['len_words']\n",
        "    return df"
      ],
      "metadata": {
        "id": "0dFQdH9LCvzv"
      },
      "execution_count": null,
      "outputs": []
    },
    {
      "cell_type": "code",
      "source": [
        "df = measure_file_sizes(folder)"
      ],
      "metadata": {
        "id": "XWx66xHKFIeh"
      },
      "execution_count": null,
      "outputs": []
    },
    {
      "cell_type": "code",
      "source": [
        "df"
      ],
      "metadata": {
        "id": "vgsO26t5FpiQ"
      },
      "execution_count": null,
      "outputs": []
    },
    {
      "cell_type": "code",
      "source": [
        "df.plot.hist(bins=30);"
      ],
      "metadata": {
        "id": "ncaOFxMuXNfs"
      },
      "execution_count": null,
      "outputs": []
    },
    {
      "cell_type": "code",
      "source": [
        "df['generated'] = False"
      ],
      "metadata": {
        "id": "T438H4N8e4n1"
      },
      "execution_count": null,
      "outputs": []
    },
    {
      "cell_type": "code",
      "source": [
        "df"
      ],
      "metadata": {
        "id": "lj1H1WvgsBj0"
      },
      "execution_count": null,
      "outputs": []
    },
    {
      "cell_type": "markdown",
      "source": [
        "### Get lengths pro author"
      ],
      "metadata": {
        "id": "oyoyqq7Zr5j8"
      }
    },
    {
      "cell_type": "code",
      "source": [
        "authors = pd.Series(df.index.str.split('_')).apply(lambda x: x[0])"
      ],
      "metadata": {
        "id": "1vR9W_d3stjx"
      },
      "execution_count": null,
      "outputs": []
    },
    {
      "cell_type": "code",
      "source": [
        "df['author'] = list(authors)"
      ],
      "metadata": {
        "id": "xWEBmoTesEiu"
      },
      "execution_count": null,
      "outputs": []
    },
    {
      "cell_type": "code",
      "source": [
        "lengths = {'Edgar Poe': df[df['author'] == 'Poe']['len_words'],\n",
        "           'Arnold Bennett': df[df['author'] == 'Bennett']['len_words'],\n",
        "           'Katherine Mansfield': df[df['author'] == 'Mansfield']['len_words']}"
      ],
      "metadata": {
        "id": "3HhLCLN7s_x4"
      },
      "execution_count": null,
      "outputs": []
    },
    {
      "cell_type": "markdown",
      "source": [
        "# Step 2. Generation"
      ],
      "metadata": {
        "id": "pSBCzDWXFWm8"
      }
    },
    {
      "cell_type": "code",
      "execution_count": null,
      "metadata": {
        "id": "IadbjSAZ1gW-"
      },
      "outputs": [],
      "source": [
        "openai.api_key= #INSERT YOUR KEY"
      ]
    },
    {
      "cell_type": "markdown",
      "metadata": {
        "id": "WwqbfcQ49HSv"
      },
      "source": [
        "### Functions"
      ]
    },
    {
      "cell_type": "code",
      "execution_count": null,
      "metadata": {
        "id": "GZ7tQbzv3FnA"
      },
      "outputs": [],
      "source": [
        "def prepare_promt(writer):\n",
        "    starter_prompt = f\"\"\"Assume you are writer {writer}. Write the first part of a short story in prose in your own authorial voice\"\"\"\n",
        "    messages=[\n",
        "            {\"role\": \"system\", \"content\": f\"You are writer {writer}\"},\n",
        "            {\"role\": \"user\", \"content\": starter_prompt},\n",
        "            ]\n",
        "    return messages"
      ]
    },
    {
      "cell_type": "code",
      "source": [],
      "metadata": {
        "id": "C-Sq1ncjxCc3"
      },
      "execution_count": null,
      "outputs": []
    },
    {
      "cell_type": "code",
      "source": [
        "def prepare_next_promt(writer):\n",
        "    next_prompt = f\"\"\"Write the next part of the same short story. Keep assuming you are writer {writer}.\"\"\"\n",
        "    return next_prompt"
      ],
      "metadata": {
        "id": "p7CJqKnSPXvl"
      },
      "execution_count": null,
      "outputs": []
    },
    {
      "cell_type": "code",
      "execution_count": null,
      "metadata": {
        "id": "KmOHSt4U4O_C"
      },
      "outputs": [],
      "source": [
        "def ask_gpt(messages):\n",
        "    try:\n",
        "        response = openai.ChatCompletion.create(\n",
        "        model=\"gpt-4\", # \"gpt-3.5-turbo\"\n",
        "        messages=messages\n",
        "        )\n",
        "    except:\n",
        "        time.sleep(15)\n",
        "        response = openai.ChatCompletion.create(\n",
        "        model=\"gpt-4\", # \"gpt-3.5-turbo\"\n",
        "        messages=messages\n",
        "        )\n",
        "    return response"
      ]
    },
    {
      "cell_type": "markdown",
      "source": [
        "### Generation"
      ],
      "metadata": {
        "id": "_INUdThKGLpU"
      }
    },
    {
      "cell_type": "code",
      "execution_count": null,
      "metadata": {
        "id": "LvSzZgsf9D4d"
      },
      "outputs": [],
      "source": [
        "!mkdir generated"
      ]
    },
    {
      "cell_type": "code",
      "source": [
        "authors = ['Arnold Bennett', 'Edgar Poe', 'Katherine Mansfield']"
      ],
      "metadata": {
        "id": "HvFxwax1GT7c"
      },
      "execution_count": null,
      "outputs": []
    },
    {
      "cell_type": "code",
      "source": [
        "def get_texts_from_author(author, author_lens, iters=10, sleeptime = 15):\n",
        "    author_surname_lower = author.split()[-1].lower()\n",
        "    for i in tqdm(range(iters)):\n",
        "        filename = f'{author_surname_lower}_{i}.txt'\n",
        "        print(filename)\n",
        "        this_len = author_lens[i]\n",
        "        result_text = generate_single_text(author, this_len = this_len, sleeptime = sleeptime)\n",
        "        with open(f'generated/{filename}', 'w') as output:\n",
        "            output.write(result_text)\n",
        "            output.write('\\n')"
      ],
      "metadata": {
        "id": "LsgKz5J0UFDo"
      },
      "execution_count": null,
      "outputs": []
    },
    {
      "cell_type": "code",
      "source": [
        "def generate_single_text(author, this_len, sleeptime):\n",
        "    print(f'the generated text size shall be close to the length of {this_len} words')\n",
        "    time.sleep(sleeptime)\n",
        "    messages = prepare_promt(author)\n",
        "    response = ask_gpt(messages)\n",
        "    response_text = response['choices'][0]['message']['content']\n",
        "    text = response_text\n",
        "    while len(text.split()) < (this_len + random.randint(-100,100)):\n",
        "        continuation_prompt = prepare_next_promt(author)\n",
        "        messages.append({\"role\": \"assistant\", \"content\": response_text},)\n",
        "        messages.append({\"role\": \"user\", \"content\": continuation_prompt},)\n",
        "        if len(messages) > 4:\n",
        "            #print(messages)\n",
        "            messages.pop(1)\n",
        "            messages.pop(1)\n",
        "            #print(messages)\n",
        "            #print('Removed old dialogue parts')\n",
        "            #print(len(messages))\n",
        "        response = ask_gpt(messages)\n",
        "        response_text = response['choices'][0]['message']['content']\n",
        "        text += response_text\n",
        "        time.sleep(sleeptime)\n",
        "    print(f'resulting text length: {len(text.split())}')\n",
        "    return text"
      ],
      "metadata": {
        "id": "HWnKhh8KYUZi"
      },
      "execution_count": null,
      "outputs": []
    },
    {
      "cell_type": "code",
      "source": [
        "for author in authors:\n",
        "    author_lens = lengths[author]\n",
        "    get_texts_from_author(author, author_lens)"
      ],
      "metadata": {
        "id": "NBxw7_sXGWnR"
      },
      "execution_count": null,
      "outputs": []
    },
    {
      "cell_type": "code",
      "source": [
        "author = 'Edgar Poe'\n",
        "author_lens = lengths['Edgar Poe']\n",
        "sleeptime = 5\n",
        "author_surname_lower = author.split()[-1].lower()\n",
        "for i in tqdm(range(8,10)):\n",
        "    filename = f'{author_surname_lower}_{i}.txt'\n",
        "    print(filename)\n",
        "    this_len = author_lens[i]\n",
        "    result_text = generate_single_text(author, this_len = this_len, sleeptime = sleeptime)\n",
        "    with open(f'generated/{filename}', 'w') as output:\n",
        "        output.write(result_text)\n",
        "        output.write('\\n')"
      ],
      "metadata": {
        "id": "MS8mg8CDxUIm"
      },
      "execution_count": null,
      "outputs": []
    },
    {
      "cell_type": "markdown",
      "source": [
        "Add generated stuff"
      ],
      "metadata": {
        "id": "0ajWcv19eKlX"
      }
    },
    {
      "cell_type": "code",
      "source": [
        "folder = 'generated'"
      ],
      "metadata": {
        "id": "s9y_ZRMeeqSq"
      },
      "execution_count": null,
      "outputs": []
    },
    {
      "cell_type": "code",
      "source": [
        "dfgen = measure_file_sizes(folder)"
      ],
      "metadata": {
        "id": "MmVEEA7YetBn"
      },
      "execution_count": null,
      "outputs": []
    },
    {
      "cell_type": "code",
      "source": [
        "len(dfgen)"
      ],
      "metadata": {
        "id": "r1iotkA7ew9T"
      },
      "execution_count": null,
      "outputs": []
    },
    {
      "cell_type": "code",
      "source": [
        "len(df)"
      ],
      "metadata": {
        "id": "bJid5BJW-NXh"
      },
      "execution_count": null,
      "outputs": []
    },
    {
      "cell_type": "code",
      "source": [
        "plt.hist(df['len_words'], bins=30)\n",
        "plt.hist(dfgen['len_words'], bins=30, alpha=0.5)\n",
        "plt.legend(labels = ['human', 'gpt'])\n",
        "plt.xlabel('Length in words')\n",
        "plt.ylabel('Number of texts')\n",
        "plt.show;"
      ],
      "metadata": {
        "id": "9Xb4ewK2e0Mc"
      },
      "execution_count": null,
      "outputs": []
    },
    {
      "cell_type": "code",
      "source": [
        "dfall = pd.concat((df, dfgen))"
      ],
      "metadata": {
        "id": "K-Hoousve7zZ"
      },
      "execution_count": null,
      "outputs": []
    },
    {
      "cell_type": "code",
      "source": [
        "dfall.groupby('generated')"
      ],
      "metadata": {
        "id": "-nbWUVMnfAK3"
      },
      "execution_count": null,
      "outputs": []
    }
  ],
  "metadata": {
    "colab": {
      "provenance": []
    },
    "kernelspec": {
      "display_name": "Python 3",
      "name": "python3"
    },
    "language_info": {
      "name": "python"
    }
  },
  "nbformat": 4,
  "nbformat_minor": 0
}